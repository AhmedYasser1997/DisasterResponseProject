{
 "cells": [
  {
   "cell_type": "code",
   "execution_count": 1,
   "metadata": {},
   "outputs": [],
   "source": [
    "import sys\n",
    "import pandas as pd\n",
    "import sqlite3\n",
    "import numpy as np\n",
    "from sqlalchemy import create_engine"
   ]
  },
  {
   "cell_type": "code",
   "execution_count": 2,
   "metadata": {},
   "outputs": [],
   "source": [
    "def load_data(messages_filepath, categories_filepath):\n",
    "    \n",
    "    # Loading both csv files\n",
    "    messages = pd.read_csv(messages_filepath)\n",
    "    categories = pd.read_csv(categories_filepath)\n",
    "    \n",
    "    # Concatenating both dataframes\n",
    "    df = pd.concat([messages, categories],axis=1, join='inner')\n",
    "    return df"
   ]
  },
  {
   "cell_type": "code",
   "execution_count": 3,
   "metadata": {},
   "outputs": [],
   "source": [
    "def clean_data(df):\n",
    "    \n",
    "    # create a dataframe of the 36 individual category columns\n",
    "    # We'll split the values in the categories column on the ; character so that each value becomes a separate column\n",
    "    # Then we'll use the first row of categories dataframe to create column names for the categories data.\n",
    "    categories = df.categories.str.split(pat=';', expand=True)\n",
    "    row = categories.loc[0]\n",
    "\n",
    "    # The column name will be all but the last 2 characters. For example 'water-0' will be 'water' \n",
    "    category_colnames = row.apply(lambda x: x[0:-2]).values\n",
    "    \n",
    "    # rename the columns of `categories`\n",
    "    categories.columns = category_colnames\n",
    "    \n",
    "    # Now, we convert category values to just numbers 0 or 1 \n",
    "    # by iterating through the category columns to keep only the last character of each string (the 1 or 0). \n",
    "    # For example, related-0 becomes 0.\n",
    "    \n",
    "    for column in categories:\n",
    "        categories[column] = categories[column].astype(str).str.split(\"-\").str.get(1)\n",
    "        # Set column to be of numeric type\n",
    "        categories[column] = pd.to_numeric(categories[column])\n",
    "        \n",
    "    # Now, we drop the categories column from the df dataframe since it is no longer needed and replace it with the new category columns.\n",
    "    df.drop(columns=['categories'], inplace=True)\n",
    "    df = pd.concat([df, categories], axis=1, join=\"outer\")\n",
    "    \n",
    "    # Finally, we can do some cleaning\n",
    "    # We drop the ducplicates in the data\n",
    "    df.drop_duplicates(inplace=True)\n",
    "    \n",
    "    # Original column has over 50% of it missing values. We won't need anyways as the message column has no missing values and the values are all in English\n",
    "    df.drop(columns=['original'], inplace=True)\n",
    "    \n",
    "    # related column has max value of 2 and when this happens, all other categories are 0, so therefore not related. \n",
    "    # So we can safely change the 2 values to 0.\n",
    "    df[\"related\"].replace({2: 0}, inplace=True)\n",
    "\n",
    "    # And since data is not numeric, there is no outliers or distributions to check\n",
    "    return df"
   ]
  },
  {
   "cell_type": "code",
   "execution_count": 5,
   "metadata": {},
   "outputs": [],
   "source": [
    "def save_data(df, database_filename):\n",
    "    engine = create_engine('sqlite:///{}'.format(database_filename))\n",
    "    df.to_sql('messages', engine, index=False, if_exists='replace')  "
   ]
  },
  {
   "cell_type": "code",
   "execution_count": 22,
   "metadata": {},
   "outputs": [
    {
     "name": "stdout",
     "output_type": "stream",
     "text": [
      "Please provide the filepaths of the messages and categories datasets as the first and second argument respectively, as well as the filepath of the database to save the cleaned data to as the third argument. \n",
      "\n",
      "Example: python process_data.py disaster_messages.csv disaster_categories.csv DisasterResponse.db\n"
     ]
    }
   ],
   "source": [
    "# # connect to the database\n",
    "# # the database file will be disaster_response.db\n",
    "# # note that sqlite3 will create this database file if it does not exist already\n",
    "# conn = sqlite3.connect('disaster_response.db')\n",
    "\n",
    "# # get a cursor\n",
    "# cur = conn.cursor()\n",
    "\n",
    "# # drop the test table in case it already exists\n",
    "# cur.execute(\"DROP TABLE IF EXISTS messages\")\n",
    "\n",
    "# conn.commit()\n",
    "# conn.close()\n",
    "\n",
    "def main():\n",
    "    if len(sys.argv) == 4:\n",
    "\n",
    "        messages_filepath, categories_filepath, database_filepath = sys.argv[1:]\n",
    "\n",
    "        print('Loading data...\\n    MESSAGES: {}\\n    CATEGORIES: {}'\n",
    "              .format(messages_filepath, categories_filepath))\n",
    "        df = load_data(messages_filepath, categories_filepath)\n",
    "\n",
    "        print('Cleaning data...')\n",
    "        df = clean_data(df)\n",
    "        \n",
    "        print('Saving data...\\n    DATABASE: {}'.format(database_filepath))\n",
    "        save_data(df, database_filepath)\n",
    "        \n",
    "        print('Cleaned data saved to database!')\n",
    "    \n",
    "    else:\n",
    "        print('Please provide the filepaths of the messages and categories '\\\n",
    "              'datasets as the first and second argument respectively, as '\\\n",
    "              'well as the filepath of the database to save the cleaned data '\\\n",
    "              'to as the third argument. \\n\\nExample: python process_data.py '\\\n",
    "              'disaster_messages.csv disaster_categories.csv '\\\n",
    "              'DisasterResponse.db')\n",
    "\n",
    "\n",
    "if __name__ == '__main__':\n",
    "    main()"
   ]
  },
  {
   "cell_type": "code",
   "execution_count": null,
   "metadata": {},
   "outputs": [],
   "source": []
  }
 ],
 "metadata": {
  "kernelspec": {
   "display_name": "Python 3",
   "language": "python",
   "name": "python3"
  },
  "language_info": {
   "codemirror_mode": {
    "name": "ipython",
    "version": 3
   },
   "file_extension": ".py",
   "mimetype": "text/x-python",
   "name": "python",
   "nbconvert_exporter": "python",
   "pygments_lexer": "ipython3",
   "version": "3.7.6"
  }
 },
 "nbformat": 4,
 "nbformat_minor": 4
}
